{
 "cells": [
  {
   "cell_type": "code",
   "execution_count": 62,
   "id": "8629cbdb",
   "metadata": {},
   "outputs": [],
   "source": [
    "import requests\n",
    "from bs4 import BeautifulSoup"
   ]
  },
  {
   "cell_type": "code",
   "execution_count": 63,
   "id": "4ab457e5",
   "metadata": {},
   "outputs": [],
   "source": [
    "url = \"https://www.accuweather.com/en/hk/kwun-tong/574/daily-weather-forecast/574\"\n",
    "header = {\n",
    "    \"referer\": \"https://www.accuweather.com/\",\n",
    "    \"user-agent\": \"Mozilla/5.0 (Windows NT 10.0; Win64; x64) AppleWebKit/537.36 (KHTML, like Gecko) Chrome/109.0.0.0 Safari/537.36\"\n",
    "}"
   ]
  },
  {
   "cell_type": "code",
   "execution_count": 64,
   "id": "0e12300d",
   "metadata": {},
   "outputs": [],
   "source": [
    "r = requests.get(url, headers = header)"
   ]
  },
  {
   "cell_type": "code",
   "execution_count": 65,
   "id": "1cd35a83",
   "metadata": {},
   "outputs": [
    {
     "data": {
      "text/plain": [
       "200"
      ]
     },
     "execution_count": 65,
     "metadata": {},
     "output_type": "execute_result"
    }
   ],
   "source": [
    "r.status_code"
   ]
  },
  {
   "cell_type": "code",
   "execution_count": null,
   "id": "0de2b768",
   "metadata": {},
   "outputs": [],
   "source": [
    "r.text"
   ]
  },
  {
   "cell_type": "code",
   "execution_count": 68,
   "id": "74195f06",
   "metadata": {},
   "outputs": [],
   "source": [
    "s = BeautifulSoup(r.text, \"html.parser\")"
   ]
  },
  {
   "cell_type": "code",
   "execution_count": null,
   "id": "1f277e3f",
   "metadata": {},
   "outputs": [],
   "source": [
    "s.select(\"div[class=info]\")"
   ]
  },
  {
   "cell_type": "code",
   "execution_count": null,
   "id": "0d163eb1",
   "metadata": {},
   "outputs": [],
   "source": [
    "s.find_all(\"h2\", \"date\")"
   ]
  },
  {
   "cell_type": "code",
   "execution_count": 115,
   "id": "cb7c0168",
   "metadata": {},
   "outputs": [
    {
     "data": {
      "text/plain": [
       "'Wed 2/15'"
      ]
     },
     "execution_count": 115,
     "metadata": {},
     "output_type": "execute_result"
    }
   ],
   "source": [
    "# s.select(\"h2[class=date]\")[0].text.strip(\"\\n\").replace(\"\\n\", \" \")"
   ]
  },
  {
   "cell_type": "code",
   "execution_count": 127,
   "id": "c68c5177",
   "metadata": {},
   "outputs": [
    {
     "data": {
      "text/plain": [
       "'20°/13°'"
      ]
     },
     "execution_count": 127,
     "metadata": {},
     "output_type": "execute_result"
    }
   ],
   "source": [
    "# s.select(\"div[class=temp]\")[0].text.strip(\"\\n\").replace(\"\\n\", \"\")"
   ]
  },
  {
   "cell_type": "code",
   "execution_count": 133,
   "id": "ba59ba90",
   "metadata": {},
   "outputs": [
    {
     "name": "stdout",
     "output_type": "stream",
     "text": [
      "Wed 2/15 \t 20°/13°\n",
      "Thu 2/16 \t 20°/14°\n",
      "Fri 2/17 \t 22°/15°\n",
      "Sat 2/18 \t 23°/18°\n",
      "Sun 2/19 \t 28°/15°\n",
      "Mon 2/20 \t 22°/16°\n",
      "Tue 2/21 \t 20°/13°\n",
      "Wed 2/22 \t 20°/13°\n",
      "Thu 2/23 \t 21°/14°\n",
      "Fri 2/24 \t 20°/15°\n",
      "Sat 2/25 \t 21°/18°\n",
      "Sun 2/26 \t 24°/20°\n"
     ]
    }
   ],
   "source": [
    "for i in range(len(s.select(\"h2[class=date]\"))):\n",
    "    print(s.select(\"h2[class=date]\")[i].text.strip(\"\\n\").replace(\"\\n\", \" \"), \\\n",
    "          \"\\t\",s.select(\"div[class=temp]\")[i].text.strip(\"\\n\").replace(\"\\n\", \"\"))"
   ]
  }
 ],
 "metadata": {
  "kernelspec": {
   "display_name": "Python 3 (ipykernel)",
   "language": "python",
   "name": "python3"
  },
  "language_info": {
   "codemirror_mode": {
    "name": "ipython",
    "version": 3
   },
   "file_extension": ".py",
   "mimetype": "text/x-python",
   "name": "python",
   "nbconvert_exporter": "python",
   "pygments_lexer": "ipython3",
   "version": "3.10.6"
  }
 },
 "nbformat": 4,
 "nbformat_minor": 5
}
